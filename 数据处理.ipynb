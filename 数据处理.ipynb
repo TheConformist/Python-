{
 "cells": [
  {
   "cell_type": "code",
   "execution_count": 1,
   "id": "6b0fdec4",
   "metadata": {},
   "outputs": [],
   "source": [
    "import pandas as pd \n",
    "import jieba\n",
    "import re \n",
    "import string \n",
    "import torch.optim as optim\n",
    "train_dataset=pd.read_csv(r'C:\\Users\\xumin\\Desktop\\Python\\challenging\\data\\train.csv')\n",
    "test_dataset=pd.read_csv(r'C:\\Users\\xumin\\Desktop\\Python\\challenging\\data\\test.csv') "
   ]
  },
  {
   "cell_type": "code",
   "execution_count": 2,
   "id": "bfdd991b",
   "metadata": {},
   "outputs": [],
   "source": [
    "with open(r\"C:\\Users\\xumin\\大作业/stop_words.utf8\", encoding=\"utf8\") as f:\n",
    "    stopwords = f.readlines()\n",
    "def Chinese_pre(text_data):\n",
    "    #字母小写\n",
    "    text_data = text_data.lower()   \n",
    "    #分词\n",
    "    text_data = list(jieba.cut(text_data ,cut_all=False))\n",
    "    #去停用词和多余空格\n",
    "    text_data = [word.strip() for word in text_data if word not in stopwords]\n",
    "    #处理后的词语使用空格连接为字符串\n",
    "    text_data = \" \".join(text_data)\n",
    "    return text_data  "
   ]
  },
  {
   "cell_type": "code",
   "execution_count": 3,
   "id": "910205ed",
   "metadata": {},
   "outputs": [
    {
     "name": "stderr",
     "output_type": "stream",
     "text": [
      "Building prefix dict from the default dictionary ...\n",
      "Loading model from cache C:\\Users\\xumin\\AppData\\Local\\Temp\\jieba.cache\n",
      "Loading model cost 2.580 seconds.\n",
      "Prefix dict has been built successfully.\n"
     ]
    }
   ],
   "source": [
    "train_dataset[\"title\"] = train_dataset[\"Title\"].apply(Chinese_pre)\n",
    "test_dataset[\"title\"] = test_dataset[\"Title\"].apply(Chinese_pre)\n",
    "from sklearn.utils import shuffle  \n",
    "newtrain_dataset=shuffle(train_dataset)  \n",
    "test_dataset=shuffle(test_dataset) \n",
    "valid_dataset=newtrain_dataset[9001:10586][[\"label\",\"title\"]]\n",
    "train1_dataset=newtrain_dataset[0:9000][[\"label\",\"title\"]]  "
   ]
  },
  {
   "cell_type": "code",
   "execution_count": 4,
   "id": "4d2fb7f9",
   "metadata": {},
   "outputs": [
    {
     "data": {
      "text/html": [
       "<div>\n",
       "<style scoped>\n",
       "    .dataframe tbody tr th:only-of-type {\n",
       "        vertical-align: middle;\n",
       "    }\n",
       "\n",
       "    .dataframe tbody tr th {\n",
       "        vertical-align: top;\n",
       "    }\n",
       "\n",
       "    .dataframe thead th {\n",
       "        text-align: right;\n",
       "    }\n",
       "</style>\n",
       "<table border=\"1\" class=\"dataframe\">\n",
       "  <thead>\n",
       "    <tr style=\"text-align: right;\">\n",
       "      <th></th>\n",
       "      <th>label</th>\n",
       "      <th>title</th>\n",
       "    </tr>\n",
       "  </thead>\n",
       "  <tbody>\n",
       "    <tr>\n",
       "      <th>3014</th>\n",
       "      <td>0</td>\n",
       "      <td>国家 下狠手 了 ， 一人 失信 祸及 全家 ， 欠钱 必 还 的 时代 到来 ！</td>\n",
       "    </tr>\n",
       "    <tr>\n",
       "      <th>4894</th>\n",
       "      <td>0</td>\n",
       "      <td>治理 小区 电动车 乱 停 ， 苏州 一 物业 推出 “ 拖车 神器 ” ， 结果 …</td>\n",
       "    </tr>\n",
       "    <tr>\n",
       "      <th>3866</th>\n",
       "      <td>0</td>\n",
       "      <td>小区 里 的 审判者 — — 光荣 伟大 的 晓港 名城 五期 业主 们</td>\n",
       "    </tr>\n",
       "    <tr>\n",
       "      <th>7316</th>\n",
       "      <td>0</td>\n",
       "      <td>请 国民 监督 ： 【 贪官 也 一样 】 监狱 管理局 称 84 岁 以下 老人 是 有 ...</td>\n",
       "    </tr>\n",
       "    <tr>\n",
       "      <th>10188</th>\n",
       "      <td>1</td>\n",
       "      <td>42 岁 林心如 最终 退出 娱乐圈 ， 她 何去何从 ？</td>\n",
       "    </tr>\n",
       "    <tr>\n",
       "      <th>...</th>\n",
       "      <td>...</td>\n",
       "      <td>...</td>\n",
       "    </tr>\n",
       "    <tr>\n",
       "      <th>518</th>\n",
       "      <td>0</td>\n",
       "      <td>廊坊 一 村民 惊人 发现 … … 胆小 者 误入 ！</td>\n",
       "    </tr>\n",
       "    <tr>\n",
       "      <th>1125</th>\n",
       "      <td>0</td>\n",
       "      <td>警醒 ！ 中国 核弹 之父 被 撞 身亡 ， 肇事者 逃逸 ！ 如今 全中 囯 都 欠 他 ...</td>\n",
       "    </tr>\n",
       "    <tr>\n",
       "      <th>3856</th>\n",
       "      <td>0</td>\n",
       "      <td>被 抖音 毁掉 的 中国 孩子 ...... 深圳 人 抓紧 看看</td>\n",
       "    </tr>\n",
       "    <tr>\n",
       "      <th>763</th>\n",
       "      <td>0</td>\n",
       "      <td>美国 获得 和 维护 世界 领导 地位 的 历程 ， 领导 世界 意味着 什么 ？</td>\n",
       "    </tr>\n",
       "    <tr>\n",
       "      <th>9060</th>\n",
       "      <td>1</td>\n",
       "      <td>范冰冰 被 抓 了 ？ 张艺谋 卖血筹 钱 ？ 林俊杰 女友 曝光 ？ 王力宏 工作室 全体...</td>\n",
       "    </tr>\n",
       "  </tbody>\n",
       "</table>\n",
       "<p>9000 rows × 2 columns</p>\n",
       "</div>"
      ],
      "text/plain": [
       "       label                                              title\n",
       "3014       0          国家 下狠手 了 ， 一人 失信 祸及 全家 ， 欠钱 必 还 的 时代 到来 ！\n",
       "4894       0        治理 小区 电动车 乱 停 ， 苏州 一 物业 推出 “ 拖车 神器 ” ， 结果 …\n",
       "3866       0               小区 里 的 审判者 — — 光荣 伟大 的 晓港 名城 五期 业主 们\n",
       "7316       0  请 国民 监督 ： 【 贪官 也 一样 】 监狱 管理局 称 84 岁 以下 老人 是 有 ...\n",
       "10188      1                      42 岁 林心如 最终 退出 娱乐圈 ， 她 何去何从 ？\n",
       "...      ...                                                ...\n",
       "518        0                        廊坊 一 村民 惊人 发现 … … 胆小 者 误入 ！\n",
       "1125       0  警醒 ！ 中国 核弹 之父 被 撞 身亡 ， 肇事者 逃逸 ！ 如今 全中 囯 都 欠 他 ...\n",
       "3856       0                  被 抖音 毁掉 的 中国 孩子 ...... 深圳 人 抓紧 看看\n",
       "763        0          美国 获得 和 维护 世界 领导 地位 的 历程 ， 领导 世界 意味着 什么 ？\n",
       "9060       1  范冰冰 被 抓 了 ？ 张艺谋 卖血筹 钱 ？ 林俊杰 女友 曝光 ？ 王力宏 工作室 全体...\n",
       "\n",
       "[9000 rows x 2 columns]"
      ]
     },
     "execution_count": 4,
     "metadata": {},
     "output_type": "execute_result"
    }
   ],
   "source": [
    "train1_dataset"
   ]
  },
  {
   "cell_type": "code",
   "execution_count": 5,
   "id": "aba94f78",
   "metadata": {},
   "outputs": [],
   "source": [
    "train1_dataset.to_csv(r\"C:\\Users\\xumin\\大作业/train2.csv\",index=False)  \n",
    "valid_dataset.to_csv(r\"C:\\Users\\xumin\\大作业/val2.csv\",index=False)   \n",
    "test_dataset[[\"label\",\"title\"]].to_csv(r\"C:\\Users\\xumin\\大作业/test2.csv\",index=False)    "
   ]
  },
  {
   "cell_type": "code",
   "execution_count": null,
   "id": "188ceb55",
   "metadata": {},
   "outputs": [],
   "source": []
  }
 ],
 "metadata": {
  "kernelspec": {
   "display_name": "Python 3 (ipykernel)",
   "language": "python",
   "name": "python3"
  },
  "language_info": {
   "codemirror_mode": {
    "name": "ipython",
    "version": 3
   },
   "file_extension": ".py",
   "mimetype": "text/x-python",
   "name": "python",
   "nbconvert_exporter": "python",
   "pygments_lexer": "ipython3",
   "version": "3.8.12"
  }
 },
 "nbformat": 4,
 "nbformat_minor": 5
}
