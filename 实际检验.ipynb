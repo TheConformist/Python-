{
 "cells": [
  {
   "cell_type": "code",
   "execution_count": 2,
   "id": "cc4c24bf",
   "metadata": {},
   "outputs": [],
   "source": [
    "class LSTMNet(nn.Module):\n",
    "    def __init__(self,vocab_size,embedding_dim,hidden_dim,layer_dim,output_dim):\n",
    "        super(LSTMNet,self).__init__()\n",
    "        self.hidden_dim = hidden_dim #LSTM神经元个数\n",
    "        self.layer_dim = layer_dim  #LSTM层数\n",
    "        #对文本进行词向量处理  \n",
    "        self.embedding = nn.Embedding(vocab_size,embedding_dim)\n",
    "        #LSTM+全连接层 \n",
    "        self.lstm = nn.LSTM(embedding_dim,hidden_dim,layer_dim,batch_first=True) \n",
    "        self.fc1 = nn.Linear(hidden_dim,output_dim) \n",
    "    def forward(self,x):   \n",
    "        embeds = self.embedding(x) \n",
    "        r_out,(h_n,h_c) = self.lstm(embeds, None)\n",
    "        out = self.fc1(r_out[:,-1,:])\n",
    "        return out  "
   ]
  },
  {
   "cell_type": "code",
   "execution_count": 3,
   "id": "8d5b457f",
   "metadata": {},
   "outputs": [],
   "source": [
    "import pandas as pd \n",
    "import jieba\n",
    "import re \n",
    "import string \n",
    "import torch.optim as optim\n",
    "import pandas as pd \n",
    "import jieba\n",
    "import re \n",
    "import jieba\n",
    "import string \n",
    "from sklearn.metrics import precision_recall_fscore_support\n",
    "import torch \n",
    "from torch import nn \n",
    "import torch.nn.functional as F \n",
    "import torch.optim as optim\n",
    "import torch.utils.data as Data\n",
    "from torchtext import data\n",
    "from torchtext.vocab import Vectors\n",
    "from torchtext.legacy.data import Field,TabularDataset,Iterator,BucketIterator \n",
    "lstmmodel = torch.load(r\"C:\\Users\\xumin\\深度学习作业/lstmmodel.pkl\") \n",
    "train_dataset=pd.read_csv(r'C:\\Users\\xumin\\Desktop\\Python\\challenging\\data\\train.csv')\n",
    "test_dataset=pd.read_csv(r'C:\\Users\\xumin\\Desktop\\Python\\challenging\\data\\test.csv')  "
   ]
  },
  {
   "cell_type": "code",
   "execution_count": 4,
   "id": "171b9dea",
   "metadata": {},
   "outputs": [],
   "source": [
    "mytokenize = lambda x: x.split()\n",
    "TEXT = Field(sequential=True,tokenize=mytokenize,include_lengths=True,use_vocab=True,batch_first=True)\n",
    "LABEL=Field(sequential=False,use_vocab=False,pad_token=None,unk_token=None) \n",
    "text_data_fields = [(\"label\",LABEL),(\"title\",TEXT)]   \n",
    "traindata,validdata,testdata=TabularDataset.splits(path=r\"C:\\Users\\xumin\\大作业\",format=\"csv\",train=\"train2.csv\",fields=text_data_fields,\n",
    "                                                  validation=\"val2.csv\",test=\"test2.csv\",skip_header=True)     "
   ]
  },
  {
   "cell_type": "code",
   "execution_count": 6,
   "id": "482d2173",
   "metadata": {},
   "outputs": [],
   "source": [
    "BATCH_SIZE = 64 \n",
    "train_iter = BucketIterator(traindata,batch_size = BATCH_SIZE)\n",
    "val_iter = BucketIterator(validdata,batch_size = BATCH_SIZE) \n",
    "test_iter = BucketIterator(testdata,batch_size = BATCH_SIZE)    "
   ]
  },
  {
   "cell_type": "code",
   "execution_count": 8,
   "id": "110a5b54",
   "metadata": {},
   "outputs": [
    {
     "data": {
      "text/plain": [
       "LSTMNet(\n",
       "  (embedding): Embedding(15473, 100)\n",
       "  (lstm): LSTM(100, 100, batch_first=True)\n",
       "  (fc1): Linear(in_features=100, out_features=2, bias=True)\n",
       ")"
      ]
     },
     "execution_count": 8,
     "metadata": {},
     "output_type": "execute_result"
    }
   ],
   "source": [
    "TEXT.build_vocab(traindata,max_size=20000,vectors=None)\n",
    "LABEL.build_vocab(traindata) \n",
    "vocab_size = len(TEXT.vocab)\n",
    "embedding_dim = 100\n",
    "hidden_dim = 100      \n",
    "layer_dim = 1   \n",
    "output_dim = 2  \n",
    "lstmmodel = LSTMNet(vocab_size,embedding_dim,hidden_dim,layer_dim,output_dim)\n",
    "lstmmodel  "
   ]
  },
  {
   "cell_type": "code",
   "execution_count": 20,
   "id": "7bcd56bf",
   "metadata": {},
   "outputs": [
    {
     "name": "stdout",
     "output_type": "stream",
     "text": [
      "真正标签： tensor([0, 0, 1, 1, 0, 0, 0, 0, 0, 0, 1, 0, 0, 0, 0, 0, 1, 0, 0, 0, 0, 0, 1, 0,\n",
      "        0, 0, 0, 0, 0, 0, 1, 0, 0, 0, 0, 0, 0, 0, 0, 1, 0, 1, 0, 0, 0, 0, 1, 0,\n",
      "        0, 0, 1, 0, 0, 0, 0, 0, 0, 0, 0, 0, 1, 0, 0, 0])\n",
      "猜测： tensor([1, 0, 0, 0, 0, 0, 0, 0, 0, 0, 0, 0, 0, 0, 0, 0, 0, 0, 0, 0, 0, 0, 0, 0,\n",
      "        0, 0, 0, 0, 0, 0, 0, 0, 0, 0, 0, 0, 0, 0, 0, 0, 0, 0, 0, 0, 0, 0, 0, 0,\n",
      "        0, 0, 0, 0, 0, 0, 0, 0, 0, 0, 0, 0, 0, 0, 0, 0])\n"
     ]
    }
   ],
   "source": [
    "for step,batch in enumerate(test_iter):\n",
    "    textdata,target = batch.title[0],batch.label.view(-1)    \n",
    "    out = lstmmodel(textdata)\n",
    "    pre_lab = torch.argmax(out,1)   \n",
    "    test_y_all=torch.cat((test_y_all,target))  \n",
    "    pre_lab_all=torch.cat((pre_lab_all,pre_lab))   \n",
    "    print(\"真正标签：\",target)\n",
    "    print(\"猜测：\",pre_lab)  \n",
    "    break   "
   ]
  },
  {
   "cell_type": "code",
   "execution_count": 23,
   "id": "2240d521",
   "metadata": {},
   "outputs": [
    {
     "name": "stdout",
     "output_type": "stream",
     "text": [
      "真正标签： tensor([0, 0, 0, 0, 0, 0, 0, 0, 0, 0, 0, 0, 0, 0, 0, 0, 1, 0, 1, 1, 0, 1, 0, 0,\n",
      "        0, 0, 0, 0, 0, 0, 0, 0, 0, 0, 0, 0, 0, 1, 0, 0, 0, 1, 0, 0, 0, 0, 0, 0,\n",
      "        0, 0, 0, 0, 1, 0, 0, 0, 0, 0, 0, 0, 0, 0, 0, 0])\n",
      "猜测： tensor([0, 0, 0, 0, 0, 0, 0, 0, 0, 0, 0, 0, 0, 0, 0, 0, 0, 0, 0, 0, 0, 0, 0, 0,\n",
      "        1, 0, 0, 0, 0, 0, 0, 0, 0, 0, 0, 0, 0, 0, 0, 0, 0, 0, 0, 0, 0, 0, 0, 0,\n",
      "        0, 0, 0, 0, 0, 0, 0, 0, 0, 0, 0, 0, 0, 0, 0, 0])\n"
     ]
    }
   ],
   "source": [
    "for step,batch in enumerate(test_iter):\n",
    "    textdata,target = batch.title[0],batch.label.view(-1)    \n",
    "    out = lstmmodel(textdata)\n",
    "    pre_lab = torch.argmax(out,1)   \n",
    "    test_y_all=torch.cat((test_y_all,target))  \n",
    "    pre_lab_all=torch.cat((pre_lab_all,pre_lab))   \n",
    "    print(\"真正标签：\",target)\n",
    "    print(\"猜测：\",pre_lab)  \n",
    "    break   "
   ]
  },
  {
   "cell_type": "code",
   "execution_count": null,
   "id": "509f3e1b",
   "metadata": {},
   "outputs": [],
   "source": []
  }
 ],
 "metadata": {
  "kernelspec": {
   "display_name": "Python 3 (ipykernel)",
   "language": "python",
   "name": "python3"
  },
  "language_info": {
   "codemirror_mode": {
    "name": "ipython",
    "version": 3
   },
   "file_extension": ".py",
   "mimetype": "text/x-python",
   "name": "python",
   "nbconvert_exporter": "python",
   "pygments_lexer": "ipython3",
   "version": "3.8.12"
  }
 },
 "nbformat": 4,
 "nbformat_minor": 5
}
