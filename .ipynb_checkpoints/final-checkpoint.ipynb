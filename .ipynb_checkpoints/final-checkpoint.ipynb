{
 "cells": [
  {
   "cell_type": "code",
   "execution_count": 1,
   "id": "54c25d05",
   "metadata": {},
   "outputs": [],
   "source": [
    "import pandas as pd \n",
    "import jieba\n",
    "import re \n",
    "import jieba\n",
    "import string \n",
    "from sklearn.metrics import precision_recall_fscore_support\n",
    "import torch \n",
    "from torch import nn \n",
    "import torch.nn.functional as F \n",
    "import torch.optim as optim\n",
    "import torch.utils.data as Data\n",
    "from torchtext import data\n",
    "from torchtext.vocab import Vectors\n",
    "from torchtext.legacy.data import Field,TabularDataset,Iterator,BucketIterator "
   ]
  },
  {
   "cell_type": "code",
   "execution_count": 2,
   "id": "73645634",
   "metadata": {},
   "outputs": [],
   "source": [
    "#构建数据集\n",
    "mytokenize = lambda x: x.split()\n",
    "TEXT = Field(sequential=True,tokenize=mytokenize,include_lengths=True,use_vocab=True,batch_first=True)\n",
    "LABEL=Field(sequential=False,use_vocab=False,pad_token=None,unk_token=None) \n",
    "text_data_fields = [(\"label\",LABEL),(\"title\",TEXT)]   \n",
    "traindata,validdata,testdata=TabularDataset.splits(path=r\"C:\\Users\\xumin\\大作业\",format=\"csv\",train=\"train2.csv\",fields=text_data_fields,\n",
    "                                                  validation=\"val2.csv\",test=\"test2.csv\",skip_header=True)     "
   ]
  },
  {
   "cell_type": "code",
   "execution_count": 3,
   "id": "79dbe1a1",
   "metadata": {},
   "outputs": [],
   "source": [
    "BATCH_SIZE = 64 \n",
    "train_iter = BucketIterator(traindata,batch_size = BATCH_SIZE)\n",
    "val_iter = BucketIterator(validdata,batch_size = BATCH_SIZE) \n",
    "test_iter = BucketIterator(testdata,batch_size = BATCH_SIZE)    "
   ]
  },
  {
   "cell_type": "code",
   "execution_count": 4,
   "id": "e0489657",
   "metadata": {},
   "outputs": [],
   "source": [
    "class LSTMNet(nn.Module):\n",
    "    def __init__(self,vocab_size,embedding_dim,hidden_dim,layer_dim,output_dim):\n",
    "        super(LSTMNet,self).__init__()\n",
    "        self.hidden_dim = hidden_dim #LSTM神经元个数\n",
    "        self.layer_dim = layer_dim  #LSTM层数\n",
    "        #对文本进行词向量处理  \n",
    "        self.embedding = nn.Embedding(vocab_size,embedding_dim)\n",
    "        #LSTM+全连接层 \n",
    "        self.lstm = nn.LSTM(embedding_dim,hidden_dim,layer_dim,batch_first=True) \n",
    "        self.fc1 = nn.Linear(hidden_dim,output_dim) \n",
    "    def forward(self,x):   \n",
    "        embeds = self.embedding(x) \n",
    "        r_out,(h_n,h_c) = self.lstm(embeds, None)\n",
    "        out = self.fc1(r_out[:,-1,:])\n",
    "        return out  "
   ]
  },
  {
   "cell_type": "code",
   "execution_count": 5,
   "id": "1c3591f6",
   "metadata": {},
   "outputs": [
    {
     "data": {
      "text/plain": [
       "LSTMNet(\n",
       "  (embedding): Embedding(15415, 100)\n",
       "  (lstm): LSTM(100, 100, batch_first=True)\n",
       "  (fc1): Linear(in_features=100, out_features=2, bias=True)\n",
       ")"
      ]
     },
     "execution_count": 5,
     "metadata": {},
     "output_type": "execute_result"
    }
   ],
   "source": [
    "TEXT.build_vocab(traindata,max_size=20000,vectors=None)\n",
    "LABEL.build_vocab(traindata) \n",
    "vocab_size = len(TEXT.vocab)\n",
    "embedding_dim = 100\n",
    "hidden_dim = 100      \n",
    "layer_dim = 1   \n",
    "output_dim = 2  \n",
    "lstmmodel = LSTMNet(vocab_size,embedding_dim,hidden_dim,layer_dim,output_dim)\n",
    "lstmmodel "
   ]
  },
  {
   "cell_type": "code",
   "execution_count": 6,
   "id": "4c1ba8b6",
   "metadata": {},
   "outputs": [],
   "source": [
    "import time\n",
    "def train_model2(model,traindataloader,valdataloader,criterion,optimizer,num_epochs ):\n",
    "    train_loss_all = []\n",
    "    train_acc_all = []\n",
    "    val_loss_all = []\n",
    "    val_acc_all = []\n",
    "    since = time.time ()\n",
    "    for epoch in range(num_epochs): \n",
    "        print('-'*10) \n",
    "        print('Epoch{}/{}'.format(epoch,num_epochs-1))  \n",
    "        ##每个epoch有两个阶段\n",
    "        train_loss =0.0\n",
    "        train_corrects = 0  \n",
    "        train_num = 0\n",
    "        val_loss =0.0 \n",
    "        val_corrects = 0\n",
    "        val_num = 0\n",
    "        model.train()\n",
    "        for step,batch in enumerate(traindataloader):  \n",
    "            textdata,target = batch.title[0],batch.label.view(-1)    \n",
    "            out = model(textdata)\n",
    "            pre_lab = torch.argmax(out,1)\n",
    "            loss = criterion(out,target)\n",
    "            optimizer.zero_grad()\n",
    "            loss.backward()\n",
    "            optimizer.step()   \n",
    "            train_loss+=loss.item()*len(target) \n",
    "            train_corrects += torch.sum(pre_lab ==target.data)\n",
    "            train_num += len(target)\n",
    "        ##计算一个epoch在训练集上的损失和精度\n",
    "        train_loss_all.append(train_loss / train_num)\n",
    "        train_acc_all.append(train_corrects.double().item()/train_num)\n",
    "        print('{}Train Loss:{:.4f}  Train Acc:{:.4f}'.format(\n",
    "            epoch, train_loss_all[-1],train_acc_all[-1] ))\n",
    "        #评估阶段 \n",
    "        model.eval()\n",
    "        for step,batch in enumerate(valdataloader): \n",
    "            textdata,target = batch.title[0],batch.label.view(-1)   \n",
    "            out = model(textdata)\n",
    "            pre_lab = torch.argmax(out,1)\n",
    "            loss = criterion(out,target)     \n",
    "            val_loss += loss.item()*len(target)   \n",
    "            val_corrects += torch.sum(pre_lab ==target.data)\n",
    "            val_num += len(target)  \n",
    "            \n",
    "        ##计算一个epoch在验证集上的损失和精度\n",
    "        val_loss_all.append(val_loss / val_num)  \n",
    "        val_acc_all.append(val_corrects.double().item()/val_num)\n",
    "        print('{}Val Loss:{:.4f}  Val Acc:{:.4f}'.format(\n",
    "            epoch, val_loss_all[-1],val_acc_all[-1]))  \n",
    "    train_process = pd.DataFrame(\n",
    "            data={\"epoch\":range(num_epochs),\n",
    "                  \"train_loss_all\":train_loss_all,\n",
    "                  \"train_acc_all\":train_acc_all,  \n",
    "                  \"val_loss_all\":val_loss_all,\n",
    "                  \"val_acc_all\":val_acc_all   })\n",
    "    return model,train_process    "
   ]
  },
  {
   "cell_type": "code",
   "execution_count": 7,
   "id": "07404e7a",
   "metadata": {},
   "outputs": [
    {
     "name": "stdout",
     "output_type": "stream",
     "text": [
      "----------\n",
      "Epoch0/19\n",
      "0Train Loss:0.5802  Train Acc:0.7346\n",
      "0Val Loss:0.5618  Val Acc:0.7527\n",
      "----------\n",
      "Epoch1/19\n",
      "1Train Loss:0.5762  Train Acc:0.7387\n",
      "1Val Loss:0.5604  Val Acc:0.7546\n",
      "----------\n",
      "Epoch2/19\n",
      "2Train Loss:0.5739  Train Acc:0.7396\n",
      "2Val Loss:0.5628  Val Acc:0.7539\n",
      "----------\n",
      "Epoch3/19\n",
      "3Train Loss:0.5127  Train Acc:0.7719\n",
      "3Val Loss:0.3720  Val Acc:0.8644\n",
      "----------\n",
      "Epoch4/19\n",
      "4Train Loss:0.3047  Train Acc:0.8919\n",
      "4Val Loss:0.2683  Val Acc:0.9117\n",
      "----------\n",
      "Epoch5/19\n",
      "5Train Loss:0.2216  Train Acc:0.9272\n",
      "5Val Loss:0.2239  Val Acc:0.9243\n",
      "----------\n",
      "Epoch6/19\n",
      "6Train Loss:0.1666  Train Acc:0.9499\n",
      "6Val Loss:0.2088  Val Acc:0.9344\n",
      "----------\n",
      "Epoch7/19\n",
      "7Train Loss:0.1422  Train Acc:0.9598\n",
      "7Val Loss:0.1840  Val Acc:0.9407\n",
      "----------\n",
      "Epoch8/19\n",
      "8Train Loss:0.1211  Train Acc:0.9664\n",
      "8Val Loss:0.1930  Val Acc:0.9451\n",
      "----------\n",
      "Epoch9/19\n",
      "9Train Loss:0.1057  Train Acc:0.9706\n",
      "9Val Loss:0.1652  Val Acc:0.9521\n",
      "----------\n",
      "Epoch10/19\n",
      "10Train Loss:0.0904  Train Acc:0.9768\n",
      "10Val Loss:0.1566  Val Acc:0.9571\n",
      "----------\n",
      "Epoch11/19\n",
      "11Train Loss:0.0799  Train Acc:0.9792\n",
      "11Val Loss:0.1554  Val Acc:0.9584\n",
      "----------\n",
      "Epoch12/19\n",
      "12Train Loss:0.0686  Train Acc:0.9827\n",
      "12Val Loss:0.1671  Val Acc:0.9558\n",
      "----------\n",
      "Epoch13/19\n",
      "13Train Loss:0.0647  Train Acc:0.9822\n",
      "13Val Loss:0.1472  Val Acc:0.9590\n",
      "----------\n",
      "Epoch14/19\n",
      "14Train Loss:0.0581  Train Acc:0.9844\n",
      "14Val Loss:0.1579  Val Acc:0.9577\n",
      "----------\n",
      "Epoch15/19\n",
      "15Train Loss:0.0613  Train Acc:0.9828\n",
      "15Val Loss:0.1634  Val Acc:0.9571\n",
      "----------\n",
      "Epoch16/19\n",
      "16Train Loss:0.0476  Train Acc:0.9868\n",
      "16Val Loss:0.1444  Val Acc:0.9640\n",
      "----------\n",
      "Epoch17/19\n",
      "17Train Loss:0.0412  Train Acc:0.9888\n",
      "17Val Loss:0.1532  Val Acc:0.9577\n",
      "----------\n",
      "Epoch18/19\n",
      "18Train Loss:0.0380  Train Acc:0.9900\n",
      "18Val Loss:0.1490  Val Acc:0.9539\n",
      "----------\n",
      "Epoch19/19\n",
      "19Train Loss:0.0416  Train Acc:0.9884\n",
      "19Val Loss:0.1506  Val Acc:0.9584\n"
     ]
    }
   ],
   "source": [
    "optimizer = torch.optim.Adam(lstmmodel.parameters(),lr=0.0003) \n",
    "loss_func = nn.CrossEntropyLoss()    \n",
    "lstmmodel,train_process = train_model2(lstmmodel,train_iter,val_iter,loss_func,optimizer,num_epochs=20)        "
   ]
  },
  {
   "cell_type": "code",
   "execution_count": 8,
   "id": "2cfc9c17",
   "metadata": {},
   "outputs": [
    {
     "name": "stdout",
     "output_type": "stream",
     "text": [
      "在测试集上的预测精度为： 0.903559806725175\n"
     ]
    },
    {
     "data": {
      "text/plain": [
       "(0.8303259137365389, 0.7477799965992963, 0.7800669607416153, None)"
      ]
     },
     "execution_count": 8,
     "metadata": {},
     "output_type": "execute_result"
    }
   ],
   "source": [
    "from sklearn.metrics import accuracy_score\n",
    "lstmmodel.eval()\n",
    "test_y_all = torch.LongTensor()\n",
    "pre_lab_all = torch.LongTensor()\n",
    "for step,batch in enumerate(test_iter):\n",
    "    textdata,target = batch.title[0],batch.label.view(-1)    \n",
    "    out = lstmmodel(textdata)\n",
    "    pre_lab = torch.argmax(out,1)   \n",
    "    test_y_all=torch.cat((test_y_all,target))  \n",
    "    pre_lab_all=torch.cat((pre_lab_all,pre_lab))    \n",
    "acc = accuracy_score(test_y_all,pre_lab_all) \n",
    "print(\"在测试集上的预测精度为：\",acc)    \n",
    "precision_recall_fscore_support(test_y_all,pre_lab_all,average='macro')     "
   ]
  },
  {
   "cell_type": "code",
   "execution_count": 9,
   "id": "ee211e56",
   "metadata": {},
   "outputs": [
    {
     "name": "stdout",
     "output_type": "stream",
     "text": [
      "AUC is 0.7477799965992963\n"
     ]
    }
   ],
   "source": [
    "from sklearn.metrics import roc_auc_score \n",
    "print (\"AUC is\",roc_auc_score(test_y_all, pre_lab_all)) "
   ]
  },
  {
   "cell_type": "code",
   "execution_count": 10,
   "id": "08f22ca7",
   "metadata": {},
   "outputs": [
    {
     "data": {
      "text/plain": [
       "(0.8958538591273183, 0.903559806725175, 0.8967018015922545, None)"
      ]
     },
     "execution_count": 10,
     "metadata": {},
     "output_type": "execute_result"
    }
   ],
   "source": [
    "precision_recall_fscore_support(test_y_all,pre_lab_all,average='weighted')   "
   ]
  },
  {
   "cell_type": "code",
   "execution_count": 11,
   "id": "2732a826",
   "metadata": {},
   "outputs": [
    {
     "name": "stdout",
     "output_type": "stream",
     "text": [
      "AUC is 0.7477799965992963\n"
     ]
    }
   ],
   "source": [
    "from sklearn.metrics import roc_auc_score \n",
    "print (\"AUC is\",roc_auc_score(test_y_all, pre_lab_all)) "
   ]
  },
  {
   "cell_type": "code",
   "execution_count": 12,
   "id": "55e9cddb",
   "metadata": {},
   "outputs": [],
   "source": [
    "torch.save(lstmmodel,r\"C:\\Users\\xumin\\深度学习作业/lstmmodel.pkl\") \n",
    "train_process.to_csv(r\"C:\\Users\\xumin\\深度学习作业/lstmmodel_process1.csv\",index = False)   "
   ]
  },
  {
   "cell_type": "code",
   "execution_count": 13,
   "id": "4485766a",
   "metadata": {},
   "outputs": [
    {
     "data": {
      "image/png": "[encoded data removed]",
      "text/plain": [
       "<Figure size 1296x432 with 2 Axes>"
      ]
     },
     "metadata": {
      "needs_background": "light"
     },
     "output_type": "display_data"
    }
   ],
   "source": [
    "import matplotlib.pyplot as plt\n",
    "import seaborn as sns   \n",
    "from matplotlib.font_manager import FontProperties\n",
    "fonts = FontProperties(fname = \"/Library/Fonts/华文细黑.ttf\") \n",
    "plt.figure(figsize=(18,6))\n",
    "plt.subplot(1,2,1)\n",
    "plt.plot(train_process.epoch,train_process.train_loss_all,\"r.-\",label = \"Train loss\")\n",
    "plt.plot(train_process.epoch,train_process.val_loss_all,\"bs-\",label = \"Val loss\")  \n",
    "plt.legend()\n",
    "plt.xlabel(\"Epoch number\",size = 13)\n",
    "plt.ylabel(\"Loss value\",size = 13)\n",
    "plt.subplot(1,2,2)\n",
    "plt.plot(train_process.epoch,train_process.train_acc_all,\"r.-\",label = \"Train acc\")\n",
    "plt.plot(train_process.epoch,train_process.val_acc_all,\"bs-\",label = \"Val acc\") \n",
    "plt.xlabel(\"Epoch number\",size = 13)  \n",
    "plt.ylabel(\"Acc\",size = 13)\n",
    "plt.legend()  \n",
    "plt.show()  "
   ]
  },
  {
   "cell_type": "code",
   "execution_count": null,
   "id": "94e7ff72",
   "metadata": {},
   "outputs": [],
   "source": []
  }
 ],
 "metadata": {
  "kernelspec": {
   "display_name": "Python 3 (ipykernel)",
   "language": "python",
   "name": "python3"
  },
  "language_info": {
   "codemirror_mode": {
    "name": "ipython",
    "version": 3
   },
   "file_extension": ".py",
   "mimetype": "text/x-python",
   "name": "python",
   "nbconvert_exporter": "python",
   "pygments_lexer": "ipython3",
   "version": "3.8.12"
  }
 },
 "nbformat": 4,
 "nbformat_minor": 5
}
